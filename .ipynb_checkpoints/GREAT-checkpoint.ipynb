{
 "cells": [
  {
   "cell_type": "markdown",
   "id": "038b7766",
   "metadata": {},
   "source": [
    "# NumPy In Python:\n",
    "- Arrays"
   ]
  },
  {
   "cell_type": "markdown",
   "id": "f26ee76c",
   "metadata": {},
   "source": [
    "# Difference between lists and arrays\n",
    "- List can accept more than one data type, while Arrays primarily accepts only one data type.\n",
    "- List is an output structure"
   ]
  },
  {
   "cell_type": "code",
   "execution_count": 2,
   "id": "939d692d",
   "metadata": {},
   "outputs": [],
   "source": [
    "import numpy as np"
   ]
  },
  {
   "cell_type": "markdown",
   "id": "5a3ce677",
   "metadata": {},
   "source": [
    "# Creation of NumPy array\n",
    "- Syntax\n",
    "- Np.array(object,ndmin,dtype)\n",
    "- Object: list/tuple\n",
    "- Ndmin: minimum number of dimension\n",
    "- Dtype: int,float,complex"
   ]
  },
  {
   "cell_type": "code",
   "execution_count": 3,
   "id": "7448ca90",
   "metadata": {},
   "outputs": [
    {
     "name": "stdout",
     "output_type": "stream",
     "text": [
      "[7 8 9]\n"
     ]
    }
   ],
   "source": [
    "list1 = [7,8,9]\n",
    "arr = np.array(list1)\n",
    "print(arr)"
   ]
  },
  {
   "cell_type": "code",
   "execution_count": 4,
   "id": "a7d90849",
   "metadata": {},
   "outputs": [
    {
     "data": {
      "text/plain": [
       "numpy.ndarray"
      ]
     },
     "execution_count": 4,
     "metadata": {},
     "output_type": "execute_result"
    }
   ],
   "source": [
    "type(arr)"
   ]
  },
  {
   "cell_type": "code",
   "execution_count": null,
   "id": "e6bf4163",
   "metadata": {},
   "outputs": [],
   "source": [
    "# Creation of one diensional array"
   ]
  }
 ],
 "metadata": {
  "kernelspec": {
   "display_name": "Python 3 (ipykernel)",
   "language": "python",
   "name": "python3"
  },
  "language_info": {
   "codemirror_mode": {
    "name": "ipython",
    "version": 3
   },
   "file_extension": ".py",
   "mimetype": "text/x-python",
   "name": "python",
   "nbconvert_exporter": "python",
   "pygments_lexer": "ipython3",
   "version": "3.9.13"
  }
 },
 "nbformat": 4,
 "nbformat_minor": 5
}
